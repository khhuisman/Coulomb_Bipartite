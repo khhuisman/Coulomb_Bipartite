{
 "cells": [
  {
   "cell_type": "code",
   "execution_count": null,
   "metadata": {},
   "outputs": [],
   "source": [
    "### Author : Karssien Hero Huisman\n",
    "### Hartree Fock Approximation : Semi Infinite Leads\n",
    "### Onsite energy of the leads shifts with voltage:\n",
    "### epsilon0L,epsilon0R -> ef + V/2, ef - V/2"
   ]
  },
  {
   "cell_type": "code",
   "execution_count": 1,
   "metadata": {},
   "outputs": [],
   "source": [
    "import numpy as np\n",
    "import matplotlib.pyplot as plt"
   ]
  },
  {
   "cell_type": "code",
   "execution_count": 2,
   "metadata": {},
   "outputs": [],
   "source": [
    "import sys\n",
    "sys.path.insert(0, '/Users/khhuisman/Documents/Jupyter_notebooks/Paper3_SIFLeads/Modules_SIF')"
   ]
  },
  {
   "cell_type": "markdown",
   "metadata": {},
   "source": [
    "### Scattering Region"
   ]
  },
  {
   "cell_type": "code",
   "execution_count": 3,
   "metadata": {},
   "outputs": [],
   "source": [
    "import Sgeom_scatteringregion #Hamiltonian without interactions U=0, not coupled to leads"
   ]
  },
  {
   "cell_type": "markdown",
   "metadata": {},
   "source": [
    "### Import NEGF methods"
   ]
  },
  {
   "cell_type": "code",
   "execution_count": 4,
   "metadata": {},
   "outputs": [],
   "source": [
    "import negf_SIF_HFA as negf_method               ### negf code\n",
    "import Integration_SIF_HFA_OnSiteVoltageDep as Integration_method ### for calculating electron densities\n",
    "import Currents_HFA_SIF as Current_method        ### for calculatin currents"
   ]
  },
  {
   "cell_type": "markdown",
   "metadata": {},
   "source": [
    "# P Value"
   ]
  },
  {
   "cell_type": "code",
   "execution_count": 5,
   "metadata": {},
   "outputs": [],
   "source": [
    "import handy_functions_coulomb as hfc #some \"usefull functions\"\n",
    "import Pvalue ## for calculating the P-value"
   ]
  },
  {
   "cell_type": "code",
   "execution_count": 6,
   "metadata": {},
   "outputs": [],
   "source": [
    "\n",
    "\n",
    "\n",
    "def func_energies_voltagedepleads(Hamiltonian0,U,npoints,ef,Vmax,\n",
    "                                 tleadL,tleadR,pz):\n",
    "    \n",
    "\n",
    "    #If tleadL or tleadR is enormous treat it like WBL\n",
    "    evlist = np.linalg.eigh(Hamiltonian0)[0]\n",
    "    evlist_shifted = np.add(evlist,[U/2 for i in range(len(evlist))])\n",
    "    e_lumo = evlist_shifted[int(Hamiltonian0.shape[0]/2)-1]\n",
    "    e_homo = evlist_shifted[int(Hamiltonian0.shape[0]/2)]\n",
    "    \n",
    "    #Fermi Energy\n",
    "    hl_gap = e_lumo - e_homo\n",
    "    \n",
    "    \n",
    "    \n",
    "    #lower,upper bound for Glesser function\n",
    "    emin = np.round(int(10*min(evlist_shifted))/10 - 10,2) #lower bound for integrals\n",
    "    emax = np.round(int(10*max(evlist_shifted))/10 + 10,2)   #lower bound for integrals\n",
    "    \n",
    "    epsilon0_list = [ef + Vmax/2,ef - Vmax/2]\n",
    "    energieslist = []\n",
    "    #####\n",
    "    de = 0.1\n",
    "    emin_list = []\n",
    "    emax_list = []\n",
    "    \n",
    "    for epsilon0L in epsilon0_list:\n",
    "        for epsilon0R in epsilon0_list:\n",
    "            \n",
    "            \n",
    "            \n",
    "            eminL = -2*tleadL + epsilon0L - abs(pz)*2*tleadL - de  \n",
    "            emaxL = epsilon0L +  abs(pz)*2*tleadL + 2*tleadL + de  \n",
    "\n",
    "            eminR = epsilon0R - 2*tleadR  - de \n",
    "            emaxR = epsilon0R + 2*tleadR  + de  \n",
    "    \n",
    "    \n",
    "            emin_list.append(eminL)\n",
    "            emin_list.append(eminR)\n",
    "            emax_list.append(emaxL)\n",
    "            emax_list.append(emaxR)\n",
    "    \n",
    "  \n",
    "    energies = np.linspace(min(emin_list),max(emax_list),npoints)\n",
    "    \n",
    "    return energies\n",
    "\n",
    "\n",
    "\n",
    "\n"
   ]
  },
  {
   "cell_type": "code",
   "execution_count": 7,
   "metadata": {},
   "outputs": [],
   "source": [
    "def plot_occupation_difference(nP_list_conv,nM_list_conv,V_list_convg,Hamiltonian0):\n",
    "    dimlist = hfc.func_list_i(Hamiltonian0)\n",
    "    plt.title('$n_{is}(m,V) - n_{i\\overline{s}}(-m,V)$')\n",
    "    n_list_total_convgM_swap = [hfc.pairwise_swap([ nM_list_conv[i][k] for k in dimlist]) for i in range(len(V_list_convg))\n",
    "                              ]\n",
    "    nP_list_plot =[ [nP_list_conv[i][k] for k in dimlist ] for i in range(len(V_list_convg)) ]\n",
    "\n",
    "\n",
    "    plt.plot(V_list_convg,np.subtract(nP_list_plot,n_list_total_convgM_swap))\n",
    "    plt.xlabel('Bias Voltage [eV] ')\n",
    "    plt.ylabel('Electron Density')\n",
    "    plt.ticklabel_format(style=\"sci\", scilimits=(0,0))\n",
    "\n",
    "    plt.show()\n",
    "\n",
    "\n",
    "def plot_densities_symmtry_relation(dim,V_list,n_list):\n",
    "    ones = [1 for i in range(dim)]\n",
    "    n_list_swap = [np.subtract(ones,hfc.pairwise_swap(n_list[-1-i])) for i in range(len(n_list))]\n",
    "\n",
    "    plt.title('$n_{is}(m,V) + n_{i\\overline{s}}(m,-V) - 1$')\n",
    "    plt.plot(V_list,np.subtract(n_list,n_list_swap))\n",
    "    plt.xlabel('Bias Voltage [eV] ')\n",
    "    plt.ylabel('Electron Density')\n",
    "    plt.ticklabel_format(style=\"sci\", scilimits=(0,0))\n",
    "\n",
    "\n",
    "    plt.show()"
   ]
  },
  {
   "cell_type": "markdown",
   "metadata": {},
   "source": [
    "# Scattering Region parameters"
   ]
  },
  {
   "cell_type": "code",
   "execution_count": 8,
   "metadata": {},
   "outputs": [],
   "source": [
    "#Geometric Paramters\n",
    "Lm      = 2            # \"Length\" of S-shape\n",
    "Wg      = 2            # Width of S-shape\n",
    "epsilon = 0            # onsite energy\n",
    "t       = 2.4          # Hopping paramter\n",
    "\n",
    "Ulist  = [0.5*t,  t]              ## list of Coulomb interaction values\n",
    "lambdalist   = [(1*(10**-1))*t] ## list of soc coupling values\n",
    "\n",
    "T = 300   #temperature (Kelvin) of leads\n",
    "betaL,betaR = negf_method.func_beta(T),negf_method.func_beta(T) ### beta = 1/(kBT) in eV\n",
    "\n"
   ]
  },
  {
   "cell_type": "markdown",
   "metadata": {},
   "source": [
    "### Bias window"
   ]
  },
  {
   "cell_type": "code",
   "execution_count": 9,
   "metadata": {},
   "outputs": [
    {
     "name": "stdout",
     "output_type": "stream",
     "text": [
      "5 [0.5 1. ]\n"
     ]
    }
   ],
   "source": [
    "Vmax = 1 # Maximum bias voltage [eV]\n",
    "dV = 0.5 # stepsize\n",
    "\n",
    "V_list_pos_bias,V_list_total = hfc.func_V_total(Vmax,dV)\n",
    "print(len(V_list_total),V_list_pos_bias)"
   ]
  },
  {
   "cell_type": "markdown",
   "metadata": {},
   "source": [
    "#### Integration & Self-consistency parameters"
   ]
  },
  {
   "cell_type": "code",
   "execution_count": 10,
   "metadata": {},
   "outputs": [],
   "source": [
    "tol            = 10**-4  # tolerance of for converence of electron densities\n",
    "tol_nintegrand = 10**-15 # cut-off value that much be satisfied for lower,upper bound Glesser integral.\n",
    "\n",
    "max_iteration  = 200     # max number of iterations\n",
    "npoints        = 15000    # max number of points to integrate over\n",
    "alpha          = 0.4    # linear mixing paramter\n",
    "ef = 0 \n",
    "npoints_current = 10000"
   ]
  },
  {
   "cell_type": "code",
   "execution_count": 11,
   "metadata": {},
   "outputs": [],
   "source": [
    "tsom = lambdalist[0] ## spin-orbit coupling parameter.\n",
    "factor1 = 1 \n",
    "factor2 = 1\n"
   ]
  },
  {
   "cell_type": "markdown",
   "metadata": {},
   "source": [
    "# 3. Electron Densities"
   ]
  },
  {
   "cell_type": "markdown",
   "metadata": {},
   "source": [
    "Note: Hubbard One converges well for large U "
   ]
  },
  {
   "cell_type": "code",
   "execution_count": null,
   "metadata": {
    "scrolled": true
   },
   "outputs": [
    {
     "name": "stdout",
     "output_type": "stream",
     "text": [
      "tleadL, tleadR = 7.2,7.2 & tcoupLR = 1.3416407864998738,1.3416407864998738\n",
      "0.0 0.0\n",
      "--- ef = 0, tsom/t = 0.1 , U/t = 0.5,\n",
      "--- V = 0 ---\n",
      "[0.0092 0.0092 0.0108 0.0108 0.0025 0.0025 0.003  0.003  0.0008 0.0008\n",
      " 0.0072 0.0072 0.0045 0.0045 0.0024 0.0024 0.0039 0.0039 0.0053 0.0053]\n",
      "[0.0045 0.0045 0.0054 0.0054 0.001  0.001  0.0014 0.0014 0.0006 0.0006\n",
      " 0.0036 0.0036 0.0021 0.0021 0.0012 0.0012 0.002  0.002  0.0026 0.0026]\n"
     ]
    }
   ],
   "source": [
    "parameterlist = []\n",
    "for U in Ulist:\n",
    "\n",
    "    #Coupling lead-molecule\n",
    "    pz             = 0.8               ### magnetic polarization of left lead.\n",
    "    tlead          = (3)*t             ### hopping parameter lead strength\n",
    "    tleadL,tleadR  = np.round(factor1*tlead,2),np.round(tlead,2)      # hopping parameter left,right lead\n",
    "    tcoupL,tcoupR  =  factor2*np.sqrt(tleadL/factor1)*0.5 ,np.sqrt(tleadR)*0.5 #coupling of right lead to the molecule\n",
    "    print('tleadL, tleadR = {},{} & tcoupLR = {},{}'.format(tleadL,tleadR,tcoupL,tcoupR))\n",
    "\n",
    "    #### chi1,chi2\n",
    "    chi1 = np.round(hfc.func_chi(tleadL , tleadR ),2)\n",
    "    chi2 = np.round(hfc.func_chi(tcoupL , tcoupR ),2) \n",
    "    print(chi1,chi2)\n",
    "\n",
    "\n",
    "    ### Scattering region\n",
    "    Hamiltonian0,matL,matR = Sgeom_scatteringregion.hamiltonian_multiplesites_coupled_semi_inf(Lm,Wg, t,tsom,plotbool=False)\n",
    "\n",
    "\n",
    "\n",
    "    print('--- ef = {}, tsom/t = {} , U/t = {},'.format(ef,tsom/t,U/t))\n",
    "    n_list_totalP,convglistP = Integration_method.self_consistent_trapz_PN_OnSiteVoltDep_energyshift(\n",
    "                            V_list_pos_bias,Vmax,\n",
    "                              max_iteration,\n",
    "                            ef,\n",
    "                            Hamiltonian0,U,\n",
    "                            tleadL,tcoupL,matL,\n",
    "                            tleadR,tcoupR,matR,\n",
    "                               abs(pz), \n",
    "                            betaL, betaR,tol,\n",
    "                            tol_nintegrand,alpha,npoints,plotbool=False,trackbool=False)\n",
    "\n",
    "\n",
    "    n_list_totalM,convglistM = Integration_method.self_consistent_trapz_PN_OnSiteVoltDep_energyshift(\n",
    "                                V_list_pos_bias,Vmax,\n",
    "                              max_iteration,\n",
    "                            ef,\n",
    "                            Hamiltonian0,U,\n",
    "                            tleadL,tcoupL,matL,\n",
    "                            tleadR,tcoupR,matR,\n",
    "                               -abs(pz), \n",
    "                            betaL, betaR,tol,\n",
    "                            tol_nintegrand,alpha,npoints,plotbool=False,trackbool=False)\n",
    "\n",
    "\n",
    "\n",
    "    V_list_convg,nP_list_convg,nM_list_convg =  hfc.func_symmetric_converged(V_list_total,\n",
    "                                                                  n_list_totalP ,convglistP,\n",
    "                                                                  n_list_totalM, convglistM) \n",
    "\n",
    "\n",
    "    parameterlist.append([npoints_current, Lm,Wg,pz,tleadL,tleadR,tcoupL,tcoupR, T,alpha,t,U,tsom,ef,tol,Vmax,len(V_list_total),emin,emax,npoints,tol_nintegrand])\n",
    "\n",
    "\n",
    "\n",
    "\n",
    "    plot_densities_symmtry_relation(Hamiltonian0.shape[0],V_list_convg,nP_list_convg)\n",
    "    plot_densities_symmtry_relation(Hamiltonian0.shape[0],V_list_convg,nM_list_convg)\n",
    "\n",
    "\n",
    "\n",
    "\n",
    "\n",
    "    print('calculating currents ...')\n",
    "    IP_list = Current_method.calc_I_trapz_VoltDepLeads(npoints_current,\n",
    "                                                        V_list_convg,ef,\n",
    "                                                      Hamiltonian0,\n",
    "                                                      tleadL,tcoupL,matL,\n",
    "                                                    tleadR,tcoupR,matR,\n",
    "                                                      abs(pz),\n",
    "                                                      U,nP_list_convg,\n",
    "                                                      betaL,betaR)\n",
    "    print('+M done, now -M ...')\n",
    "    IM_list = Current_method.calc_I_trapz_VoltDepLeads(npoints_current,\n",
    "                                                        V_list_convg,ef,\n",
    "                                                      Hamiltonian0,\n",
    "                                                      tleadL,tcoupL,matL,\n",
    "                                                     tleadR,tcoupR,matR,\n",
    "                                                      -abs(pz),\n",
    "                                                      U,nM_list_convg,\n",
    "                                                      betaL,betaR)\n",
    "\n",
    "    \n",
    "\n",
    "    \n",
    "\n",
    "\n",
    "    dIlist = np.subtract(IP_list,IM_list)\n",
    "    Vprime, PClist = Current_method.func_MR_list(IP_list,IM_list,V_list_convg)\n",
    "\n",
    "    plt.title('$U/t = {}$, $\\lambda /t = {}$'.format(U/t,tsom/t))\n",
    "    plt.plot(V_list_convg,IP_list)\n",
    "    plt.plot(V_list_convg,IM_list)\n",
    "    plt.xlabel('Bias Voltage [eV]')\n",
    "    plt.ylabel('Current [eV]')\n",
    "    plt.ticklabel_format(style=\"sci\", scilimits=(0,0))\n",
    "    plt.show()\n",
    "\n",
    "    plt.title('Colinear $\\Delta I(m): ef = {},U/t = {}$, $\\lambda /t = {}$'.format(ef,U/t,tsom/t))\n",
    "    plt.plot(V_list_convg,dIlist)\n",
    "    plt.xlabel('Bias Voltage [eV]')\n",
    "    plt.ylabel('Current [eV]')\n",
    "    plt.ticklabel_format(style=\"sci\", scilimits=(0,0))\n",
    "\n",
    "    plt.show()\n",
    "\n",
    "    plt.title('P-Value : $E_F = {} $, $U/t = {}$, $\\lambda /t = {}$'.format(ef,U/t,tsom/t))\n",
    "    Vlist_prime,PJ_list = Pvalue.function_PvaluedI(V_list_convg,dIlist,22)\n",
    "    plt.plot(Vlist_prime,PJ_list)\n",
    "    plt.xlim(0,Vmax)\n",
    "    plt.ylim(-1-0.1,1+0.1)\n",
    "    plt.show()\n",
    "\n",
    "\n",
    "\n",
    "\n",
    "\n",
    "\n",
    "\n",
    "        \n"
   ]
  },
  {
   "cell_type": "code",
   "execution_count": null,
   "metadata": {},
   "outputs": [],
   "source": [
    "print(parameterlist)"
   ]
  },
  {
   "cell_type": "code",
   "execution_count": null,
   "metadata": {},
   "outputs": [],
   "source": []
  }
 ],
 "metadata": {
  "kernelspec": {
   "display_name": "Python 3 (ipykernel)",
   "language": "python",
   "name": "python3"
  },
  "language_info": {
   "codemirror_mode": {
    "name": "ipython",
    "version": 3
   },
   "file_extension": ".py",
   "mimetype": "text/x-python",
   "name": "python",
   "nbconvert_exporter": "python",
   "pygments_lexer": "ipython3",
   "version": "3.10.6"
  }
 },
 "nbformat": 4,
 "nbformat_minor": 2
}
