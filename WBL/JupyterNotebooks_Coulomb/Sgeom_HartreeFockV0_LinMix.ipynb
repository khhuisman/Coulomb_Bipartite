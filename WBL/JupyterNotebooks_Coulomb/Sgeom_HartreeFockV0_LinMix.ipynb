{
 "cells": [
  {
   "cell_type": "markdown",
   "metadata": {},
   "source": [
    "# Hartree Fock Approximation: Wide Band Limit"
   ]
  },
  {
   "cell_type": "markdown",
   "metadata": {},
   "source": [
    "### Structure of notebook"
   ]
  },
  {
   "cell_type": "markdown",
   "metadata": {},
   "source": [
    "1. Parameters of the cattering region are defined.\n",
    "2. Parameters of the fermi dirac function & Integration interval are defined.\n",
    "3. Electron Density is self-consistently calculated\n",
    "4. The magnetocurrent $\\Delta I(m,V) = I(m) - I(-m)$ is calculated.\n",
    "5. P value is calculated"
   ]
  },
  {
   "cell_type": "markdown",
   "metadata": {},
   "source": [
    "## Packages"
   ]
  },
  {
   "cell_type": "code",
   "execution_count": null,
   "metadata": {},
   "outputs": [],
   "source": [
    "import numpy as np\n",
    "import matplotlib.pyplot as plt"
   ]
  },
  {
   "cell_type": "markdown",
   "metadata": {},
   "source": [
    "## Path to modules"
   ]
  },
  {
   "cell_type": "code",
   "execution_count": null,
   "metadata": {},
   "outputs": [],
   "source": [
    "import sys\n",
    "sys.path.insert(0, '/Users/khhuisman/Documents/Jupyter_notebooks/Coulomb_Paper3_PHS_Collinear/Modules_Coulomb_Github')\n",
    "\n",
    "# sys.path.insert(0, '<path_to_modules>')"
   ]
  },
  {
   "cell_type": "markdown",
   "metadata": {},
   "source": [
    "## Scattering Region"
   ]
  },
  {
   "cell_type": "code",
   "execution_count": null,
   "metadata": {
    "scrolled": false
   },
   "outputs": [],
   "source": [
    "import Sgeom_scatteringregion as Sgeom"
   ]
  },
  {
   "cell_type": "markdown",
   "metadata": {},
   "source": [
    "## Functions for electron density"
   ]
  },
  {
   "cell_type": "code",
   "execution_count": null,
   "metadata": {},
   "outputs": [],
   "source": [
    "import handy_functions_coulomb as hfc\n",
    "import Integration_HFA as Integration_method\n",
    "import Currents_HF_git as Current_method\n",
    "import Pvalue"
   ]
  },
  {
   "cell_type": "code",
   "execution_count": null,
   "metadata": {},
   "outputs": [],
   "source": [
    "import negf_git as negf_method"
   ]
  },
  {
   "cell_type": "markdown",
   "metadata": {},
   "source": [
    "# Energies to integrate over, Fermi Energy"
   ]
  },
  {
   "cell_type": "code",
   "execution_count": null,
   "metadata": {},
   "outputs": [],
   "source": [
    "def plot_densities(nP_list_conv,nM_list_conv,V_list_convg,Hamiltonian0):\n",
    "    dimlist = hfc.func_list_i(Hamiltonian0)\n",
    "    plt.title('$n_{is}(m,V) - n_{i\\overline{s}}(-m,V)$')\n",
    "    n_list_total_convgM_swap = [hfc.pairwise_swap([ nM_list_conv[i][k] for k in dimlist]) for i in range(len(V_list_convg))\n",
    "                              ]\n",
    "    nP_list_plot =[ [nP_list_conv[i][k] for k in dimlist ] for i in range(len(V_list_convg)) ]\n",
    "\n",
    "\n",
    "    plt.plot(V_list_convg,np.subtract(nP_list_plot,n_list_total_convgM_swap))\n",
    "    plt.xlabel('Bias Voltage [eV] ')\n",
    "    plt.ylabel('Electron Density')\n",
    "    plt.ticklabel_format(style=\"sci\", scilimits=(0,0))\n",
    "\n",
    "    plt.show()\n",
    "    \n",
    "    \n",
    "def plot_densities_symmtry_relation(nP_list,nM_list,V_list,dim):\n",
    "    \n",
    "    '''\n",
    "    Input:\n",
    "        - nP_list,nM_list = electron densities as function of voltages for positive,negative magnetization\n",
    "        - V_list = list of voltages\n",
    "        - dim = total number of electron densities\n",
    "        \n",
    "    Ouput:\n",
    "        Plot of \"n_{is}(m,V) + n_{i\\overline{s}}(-m,-V) - 1\" as function of voltage\n",
    "        this quantity should be zero (within numerical accuracy of integral & tol) \n",
    "    '''\n",
    "    \n",
    "    dimlist = [i for i in range(dim)]\n",
    "    ones = [1 for i in range(dim)]\n",
    "    n_list_swapM = [np.subtract(ones,hfc.pairwise_swap(nM_list[-1-i])) for i in range(len(nM_list))]\n",
    "    nP_list_plot =[ [nP_list[i][k] for k in dimlist ] for i in range(len(V_list)) ]\n",
    "\n",
    "    plt.title('$n_{is}(m,V) + n_{i\\overline{s}}(-m,-V) - 1$')\n",
    "    plt.plot(V_list,np.subtract(nP_list_plot,n_list_swapM))\n",
    "    plt.xlabel('Bias Voltage [eV] ')\n",
    "    plt.ylabel('Electron Density')\n",
    "    plt.ticklabel_format(style=\"sci\", scilimits=(0,0))\n",
    "\n",
    "    plt.show()"
   ]
  },
  {
   "cell_type": "code",
   "execution_count": null,
   "metadata": {},
   "outputs": [],
   "source": [
    "def func_energies_alt(Hamiltonian0,U,npoints,npoints_tail):\n",
    "    '''\n",
    "    Input:\n",
    "    Hamiltonian0 = molecule without interaction (U=0)\n",
    "    U = interaction strength\n",
    "    npoints = number of energy points in window [emin,emax]\n",
    "    Output:\n",
    "    emax = upper bound of intergral\n",
    "    emin = lowest eigenvalue of Hamiltonian0\n",
    "    energiesreal = list of energies between [emin-1000,emax] (make sure the emax < ef +Vmax/2)\n",
    "    eflist = list of fermi energies for which to calculate electron densities.\n",
    "    '''\n",
    "    evlist = np.linalg.eigh(Hamiltonian0)[0]\n",
    "    e_lumo = evlist[int(Hamiltonian0.shape[0]/2)-1]\n",
    "    e_homo = evlist[int(Hamiltonian0.shape[0]/2)]\n",
    "    #Fermi Energy\n",
    "    hl_gap = e_lumo - e_homo\n",
    "    \n",
    "    \n",
    "    \n",
    "    #lower,upper bound for Glesser function\n",
    "    emin = np.round(int(10*min(evlist))/10 - 10,2) #lower bound for integrals\n",
    "    emax = np.round(int(10*max(evlist))/10 + 10,2)   #lower bound for integrals\n",
    "    \n",
    "    \n",
    "    energies_zero4000 = np.linspace(emin-5000,emin,npoints_tail) #In wide band limit the integrand has a long \"tail\"\n",
    "   \n",
    "    energiesreal_prime = np.linspace(emin,emax,npoints)\n",
    "    \n",
    "    energiesreal = np.unique(hfc.jointwolist(energies_zero4000,energiesreal_prime))\n",
    "    \n",
    "    \n",
    "    \n",
    "\n",
    "    \n",
    "    return emin-5000,emin,emax,npoints,energiesreal\n",
    "\n",
    "def func_energies(Hamiltonian0,n00listguess,\n",
    "                   GammaL,GammaR,U,npoints,npoints_tail,\n",
    "                   ef,T,Vmax,tol_nintegrand):\n",
    "    '''\n",
    "    Input:\n",
    "    Hamiltonian0 = Hamiltonian of the isolated molecule without interactions (U=0)\n",
    "    U            = interaction strength\n",
    "    npoints      = number of energy points in window [emin,emax]\n",
    "    npointstail = number of energy points in window [emin2,emin)\n",
    "    Output:\n",
    "        energiesreal = list of energies to calculate the Glesser integral with.\n",
    "        emax = upper bound of intergral\n",
    "        emin = lowest eigenvalue of Hamiltonian0 - 10 eV\n",
    "        emin2 = lower bound of integral.    \n",
    "    '''\n",
    "    \n",
    "    \n",
    "    mu_max = ef + Vmax/2            ## largest chemical potential\n",
    "    beta = negf_method.func_beta(T) ## beta\n",
    "    \n",
    "    dim = Hamiltonian0.shape[0]\n",
    "    \n",
    "    #Lower bound: \n",
    "    ### At lower bound of integral:\n",
    "    ### <n>  = \\int G+ fi Gammai G- dE ~ \\int G+ Gammai G- dE\n",
    "    ### the fermi functions are approximately 1.\n",
    "    ### The integrand-size is related to the lowest eigenvalue of \"Hamiltonian0\":\n",
    "    evlist = np.linalg.eigh(Hamiltonian0)[0]        ##list of eigenvalues\n",
    "    e_lumo = evlist[int(Hamiltonian0.shape[0]/2)-1] ##lumo energy\n",
    "    e_homo = evlist[int(Hamiltonian0.shape[0]/2)]   ##homo energy\n",
    "    hl_gap = e_lumo - e_homo                        ##HL energy\n",
    "    \n",
    "    ### Therefore we 'guess' a lowest value:\n",
    "    emin = np.round(int(10*min(evlist))/10 -10 ,2) \n",
    "    \n",
    "    ### and check if this falls within a tolerance 'tol_nintegrand':\n",
    "    emin2 = emin - 20\n",
    "    boundbool = False\n",
    "    HamiltonianU = negf_method.Hamiltonian_HF(n00listguess,U,Hamiltonian0)\n",
    "    print('Estimating lower bound...')\n",
    "    while boundbool == False:\n",
    "        \n",
    "        emin2 = emin2 - 30\n",
    "        \n",
    "        \n",
    "        nlist_min    =  [ negf_method.ndensity_listi(emin2,\n",
    "                                                     HamiltonianU,\n",
    "                                                     GammaL,GammaR,\n",
    "                                                    ef, ef,\n",
    "                                                    betaL,betaR)[i] for i in range(dim)]\n",
    "\n",
    "        check_zerob, boundbool = hfc.check_listzero(nlist_min,tol_nintegrand)\n",
    "#         print(emin2,check_zerob,boundbool)\n",
    "    \n",
    "  \n",
    "    \n",
    "    \n",
    "    ### Upper Bound:\n",
    "    ### Due to fermi dirac function, the integrand of <n>:\n",
    "    ### <n> = \\int G+ fi Gammai G- dE ~ \\int fi dE \n",
    "    ### will fall off quickly to zero near the energy ef + V/2\n",
    "    ### Therefore the largest energy we need to consider is close to ef + Vmax/2:\n",
    "    \n",
    "    emax = mu_max #intial guess emax\n",
    "    fmax = negf_method.fermi_dirac(emax,mu_max,beta) #intial guess efmax\n",
    "    \n",
    "    \n",
    "    ### We continue our search iteratively\n",
    "    while fmax >= tol_nintegrand/1000:\n",
    "        emax = np.round(emax + 0.5,2)\n",
    "        fmax = negf_method.fermi_dirac(emax,mu_max,beta)\n",
    "    \n",
    "    \n",
    "    \n",
    "    \n",
    "    energies_tail = np.linspace(emin2,emin,npoints_tail)  #In wide band limit the integrand has a long \"tail\"\n",
    "    energiesreal_prime = np.linspace( emin, emax,npoints) \n",
    "    energiesreal = np.unique(hfc.jointwolist(energies_tail,energiesreal_prime))\n",
    "   \n",
    "    return emin2,emin,emax,npoints,energiesreal"
   ]
  },
  {
   "cell_type": "markdown",
   "metadata": {},
   "source": [
    "\n",
    "## Define Scattering Region"
   ]
  },
  {
   "cell_type": "markdown",
   "metadata": {},
   "source": [
    "Hamiltonian0:\n",
    "- Without Coulomb interactions \n",
    "- Not attached to leads."
   ]
  },
  {
   "cell_type": "code",
   "execution_count": null,
   "metadata": {
    "scrolled": true
   },
   "outputs": [],
   "source": [
    "Lm = 2             #number of sites \n",
    "Wg = 2\n",
    "kmax = 4\n",
    "\n",
    "epsilon = 0 # onsite energy\n",
    "t = 2.4     # hopping paramter\n",
    "\n",
    "# List of Spin-Orbit Coupling parameter\n",
    "lambdalist = [\n",
    "            (1*(10**-1))*t\n",
    "#             ,(1*(10**-3))*t\n",
    "            ]\n",
    "# List of interaction strength\n",
    "Ulist = [ \n",
    "       \n",
    "        1*t\n",
    "        ] \n",
    "\n",
    "\n",
    "#Gamma Matrix\n",
    "gammaL = 0.5    # coupling strength to left lead\n",
    "pz    = 0.5    # magnetic polarization\n",
    "\n",
    "pz_P = abs(pz)\n",
    "pz_M = -abs(pz)\n",
    "\n",
    "\n",
    "T = 300 # Kelvin Temperature of leads\n",
    "betaL,betaR = negf_method.func_beta(T), negf_method.func_beta(T) # 1/ElectronVolt\n",
    "lambda1 = lambdalist[0]\n"
   ]
  },
  {
   "cell_type": "markdown",
   "metadata": {},
   "source": [
    "\n",
    "# Bias window"
   ]
  },
  {
   "cell_type": "code",
   "execution_count": null,
   "metadata": {},
   "outputs": [],
   "source": [
    "Vmax = 4 # Maximum bias voltage [eV]\n",
    "dV   = 0.1 # stepsize\n",
    "V_list_pos_bias,V_list_total = hfc.func_V_total(Vmax,dV)"
   ]
  },
  {
   "cell_type": "markdown",
   "metadata": {},
   "source": [
    "# Self-Consistent criteria & Integration"
   ]
  },
  {
   "cell_type": "markdown",
   "metadata": {},
   "source": [
    "Comment on the convergence: Hartree Fock converges well for small U i.e. U<t."
   ]
  },
  {
   "cell_type": "code",
   "execution_count": null,
   "metadata": {},
   "outputs": [],
   "source": [
    "tol                 = 1*10**-4 #tolerance on the electron densities \n",
    "tol_nintegrand      = 10**-7   #cut-off for integral over Glesser function\n",
    "max_iteration       = 900      #maximum number of iterations\n",
    "npoints             = 15000    #npoints energy point for Glesser integral [emin,emax]\n",
    "npoints_tail        = 5000     #npoints energy point for Glesser integral [emin2,emin]\n",
    "alpha               = 0.1      #linear mixing paramters\n",
    "npoints_current     = 15000    #number of points for Landauer-Büttiker formula\n",
    "ef                  = 0        #chemical potential, always symmetricly chosen (i.e. aligned with energy around which DOS is PHS)."
   ]
  },
  {
   "cell_type": "code",
   "execution_count": null,
   "metadata": {
    "scrolled": true
   },
   "outputs": [],
   "source": [
    "paramlist_tot = []\n",
    "factor = 1\n",
    "\n",
    "\n",
    "for U in Ulist:\n",
    "\n",
    "    gammaR = factor*gammaL\n",
    "    chi = hfc.func_chi(gammaL,gammaR)\n",
    "    print(chi)\n",
    "    Hamiltonian0,GammaR,GammaLP,GammaLM = Sgeom.hamiltonian_multiplesites_coupled_asym(Lm,Wg, t,lambda1,gammaL,gammaL,pz,plotbool=True)\n",
    "\n",
    "\n",
    "\n",
    "\n",
    "    emin2,emin,emax,npoints,energies = func_energies(Hamiltonian0,hfc.list_halves(Hamiltonian0),\n",
    "                                                       GammaLP,GammaR,U,npoints,npoints_tail,\n",
    "                                                       ef,T,Vmax,tol_nintegrand)\n",
    "    \n",
    "   \n",
    "    \n",
    "    print(emin2,emin,emax)\n",
    "    print('ef = {},lambda1/t = {} ,U/t = {}'.format(ef,lambda1/t,U/t) )\n",
    "    \n",
    "    paramterslist = [npoints_current,Lm,Wg,kmax,pz,gammaL,gammaR,T,alpha,t,U,lambda1,ef,tol, Vmax,len(V_list_total),emin2,emin,emax,npoints,npoints_tail,tol_nintegrand]\n",
    "    paramlist_tot.append(paramterslist)\n",
    "    print(paramterslist)\n",
    "#     plt.imshow(GammaR.real)\n",
    "#     plt.colorbar()\n",
    "#     plt.show()\n",
    "#     plt.imshow(0.5*(GammaLP + GammaLM).real)\n",
    "#     plt.colorbar()\n",
    "#     plt.show()\n",
    "\n",
    "    \n",
    "        \n",
    "        \n",
    "        \n",
    "        "
   ]
  },
  {
   "cell_type": "code",
   "execution_count": null,
   "metadata": {
    "scrolled": true
   },
   "outputs": [],
   "source": [
    "paramlist_tot = []\n",
    "for U in Ulist:\n",
    "    \n",
    "    gammaR = gammaL\n",
    "    \n",
    "    \n",
    "    print(gammaR,gammaL)\n",
    "    \n",
    "    ## Scatering region,leads created.\n",
    "    Hamiltonian0,GammaR,GammaLP,GammaLM = Sgeom.hamiltonian_multiplesites_coupled_asym(Lm,Wg, t,lambda1,gammaL,gammaR,pz,plotbool=False)\n",
    "\n",
    "    ## energies to integrate diagonal of Glesser function \n",
    "    emin2,emin,emax,npoints,energies = func_energies(Hamiltonian0,hfc.list_halves(Hamiltonian0),\n",
    "                                                       GammaLP,GammaR,U,npoints,npoints_tail,\n",
    "                                                       ef,T,Vmax,tol_nintegrand)\n",
    "    print(emin2,emin,emax)\n",
    "\n",
    "\n",
    "\n",
    "\n",
    "    print('ef = {},lambda1/t = {} ,U/t = {}'.format(ef,lambda1/t,U/t) )\n",
    "    chi = np.round( (gammaR-gammaL )/(gammaL + gammaR),2).real\n",
    "    print(gammaL,chi)\n",
    "\n",
    "\n",
    "    paramterslist = [npoints_current,Lm,Wg,kmax,pz,gammaL,gammaR,T,alpha,t,U,lambda1,ef,tol, Vmax,len(V_list_total),emin2,emin,emax,npoints,npoints_tail,tol_nintegrand]    \n",
    "    paramlist_tot.append(paramterslist)\n",
    "    \n",
    "    #Electron Densities are calculated for positive,negative magnetization.\n",
    "    ##positive\n",
    "    nP_list_total, convglistP = Integration_method.self_consistent_trapz_PN(V_list_pos_bias,Vmax,\n",
    "                          max_iteration,\n",
    "                        ef,\n",
    "                        U,\n",
    "                        Hamiltonian0,\n",
    "                        GammaLP,GammaR, \n",
    "                        betaL, betaR,tol,energies,\n",
    "                        tol_nintegrand,alpha,plot_bool=False,trackbool=False)\n",
    "\n",
    "    ## negative\n",
    "    nM_list_total, convglistM = Integration_method.self_consistent_trapz_PN(V_list_pos_bias,Vmax,\n",
    "                          max_iteration,\n",
    "                        ef,\n",
    "                        U,\n",
    "                        Hamiltonian0,\n",
    "                        GammaLM,GammaR, \n",
    "                        betaL, betaR,tol,energies,\n",
    "                        tol_nintegrand,alpha,plot_bool=False,trackbool=False)\n",
    "    \n",
    "    \n",
    "    \n",
    " \n",
    "    \n",
    "    V_list_convg, nP_list_convg,nM_list_convg =  hfc.func_symmetric_converged(V_list_total,\n",
    "                                                                              nP_list_total ,convglistP,\n",
    "                                                                              nM_list_total, convglistP)\n",
    "\n",
    "\n",
    "    plot_densities_symmtry_relation(nP_list_convg,nM_list_convg,V_list_convg,Hamiltonian0.shape[0])\n",
    "\n",
    "\n",
    "\n",
    "\n",
    "    print('---- done ----')       \n",
    "\n",
    "\n",
    "    print('---- calculating currents .... ----')  \n",
    "    #Calculate Currents\n",
    "    IP_list = Current_method.calc_I_trapz(npoints_current,\n",
    "                    V_list_convg,ef,\n",
    "                  Hamiltonian0 ,\n",
    "                  GammaLP,GammaR,\n",
    "                  U,nP_list_convg,\n",
    "                  betaL,betaR)\n",
    "    print('---- +M done, now -M .... ----') \n",
    "    IM_list = Current_method.calc_I_trapz(npoints_current,\n",
    "                V_list_convg,ef,\n",
    "              Hamiltonian0 ,\n",
    "              GammaLM,GammaR,\n",
    "              U,nM_list_convg,\n",
    "              betaL,betaR)\n",
    "\n",
    "\n",
    "\n",
    "    ### Magnetocurrent\n",
    "    Vprime_list,PC_list = Current_method.func_MR_list(IP_list,IM_list,V_list_convg)\n",
    "    dIlist = np.subtract(IP_list,IM_list) \n",
    "\n",
    "    plt.title('$\\Delta I(m,V)$: $E_F = {}, U/t = {}$, $\\lambda /t = {}$'.format(ef,U/t,lambda1/t))\n",
    "    plt.plot(V_list_convg,dIlist)\n",
    "    plt.xlabel('Bias Voltage [eV]')\n",
    "    plt.ylabel('Current [eV]')\n",
    "    plt.ticklabel_format(style=\"sci\", scilimits=(0,0))\n",
    "\n",
    "    plt.show()\n",
    "\n",
    "    plt.title('$E_F = {}$, $U/t = {}$, $\\lambda /t = {}$'.format(ef,U/t,lambda1/t))\n",
    "    plt.plot(Vprime_list , PC_list )\n",
    "    plt.xlabel('Bias Voltage')\n",
    "    plt.ylabel('$P_C$ [%]')\n",
    "    plt.ticklabel_format(style=\"sci\", scilimits=(0,0))\n",
    "\n",
    "    plt.show()\n",
    "\n",
    "    plt.title('$E_F = {} $, $U/t = {}$, $\\lambda /t = {}$'.format(ef,U/t,lambda1/t))\n",
    "    Vlist_prime,PJ_list = Pvalue.function_PvaluedI(V_list_convg,dIlist,22)\n",
    "    plt.plot(Vlist_prime,PJ_list)\n",
    "    plt.xlim(0,Vmax)\n",
    "    plt.ylim(-1-0.1,1+0.1)\n",
    "    plt.show()\n",
    "\n",
    "\n",
    "\n",
    "    \n",
    "\n",
    "\n",
    "\n",
    "    \n"
   ]
  },
  {
   "cell_type": "code",
   "execution_count": null,
   "metadata": {},
   "outputs": [],
   "source": [
    "print(paramlist_tot)"
   ]
  },
  {
   "cell_type": "code",
   "execution_count": null,
   "metadata": {},
   "outputs": [],
   "source": []
  },
  {
   "cell_type": "code",
   "execution_count": null,
   "metadata": {},
   "outputs": [],
   "source": []
  }
 ],
 "metadata": {
  "kernelspec": {
   "display_name": "Python 3 (ipykernel)",
   "language": "python",
   "name": "python3"
  },
  "language_info": {
   "codemirror_mode": {
    "name": "ipython",
    "version": 3
   },
   "file_extension": ".py",
   "mimetype": "text/x-python",
   "name": "python",
   "nbconvert_exporter": "python",
   "pygments_lexer": "ipython3",
   "version": "3.10.6"
  }
 },
 "nbformat": 4,
 "nbformat_minor": 2
}
